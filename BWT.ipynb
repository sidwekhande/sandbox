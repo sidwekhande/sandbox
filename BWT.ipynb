{
  "nbformat": 4,
  "nbformat_minor": 0,
  "metadata": {
    "colab": {
      "name": "BWT.ipynb",
      "version": "0.3.2",
      "provenance": [],
      "include_colab_link": true
    },
    "kernelspec": {
      "name": "python3",
      "display_name": "Python 3"
    }
  },
  "cells": [
    {
      "cell_type": "markdown",
      "metadata": {
        "id": "view-in-github",
        "colab_type": "text"
      },
      "source": [
        "<a href=\"https://colab.research.google.com/github/sidwekhande/sandbox/blob/master/BWT.ipynb\" target=\"_parent\"><img src=\"https://colab.research.google.com/assets/colab-badge.svg\" alt=\"Open In Colab\"/></a>"
      ]
    },
    {
      "metadata": {
        "id": "ssIaAOmNXcGe",
        "colab_type": "code",
        "colab": {
          "base_uri": "https://localhost:8080/",
          "height": 36
        },
        "outputId": "c90f02b5-8ec6-4d03-c1ec-834df38f99fb"
      },
      "cell_type": "code",
      "source": [
        "#Random DNA sequence generator - NucleotideCount format\n",
        "import random\n",
        "from random import choice \n",
        "random.seed(1)\n",
        "def randDNA(length):\n",
        "   DNA=\"\"\n",
        "   a=c=g=t=-1\n",
        "   for i in range(length):\n",
        "      count=choice(\"CGTA\")\n",
        "      if count == 'A':\n",
        "        a=a+1\n",
        "        DNA+= count+str(a)\n",
        "      elif count == 'C':\n",
        "        c=c+1\n",
        "        DNA+= count+str(c)\n",
        "      elif count == 'G':\n",
        "        g=g+1\n",
        "        DNA+= count+str(g)\n",
        "      elif count == 'T':\n",
        "        t=t+1\n",
        "        DNA+= count+str(t)\n",
        "   return DNA\n",
        "    \n",
        "    \n",
        "genome = randDNA(8)+\"$0\"\n",
        "print(genome)"
      ],
      "execution_count": 45,
      "outputs": [
        {
          "output_type": "stream",
          "text": [
            "G0C0T0C1A0A1A2A3$0\n"
          ],
          "name": "stdout"
        }
      ]
    },
    {
      "metadata": {
        "id": "61kMslDkYWVR",
        "colab_type": "code",
        "colab": {
          "base_uri": "https://localhost:8080/",
          "height": 203
        },
        "outputId": "35491b38-cddd-4e57-f90d-473d88431a85"
      },
      "cell_type": "code",
      "source": [
        "#BWT transform\n",
        "t = genome\n",
        "transforms = list()\n",
        "for i in range(int(len(genome)/2)):   \n",
        "   t = t[-2:]+ t[:-2]\n",
        "   transforms.append(t)\n",
        "transforms.sort()\n",
        "#print (transforms)\n",
        "f = list()\n",
        "l = list()\n",
        "for i in range(len(transforms)):\n",
        "  f.append(transforms[i][0:2])\n",
        "  l.append(transforms[i][-2:])\n",
        "  \n",
        "print(\"F \\t L\")\n",
        "for i in range(len(transforms)):\n",
        "  print(f[i], \" \\t \", l[i])\n"
      ],
      "execution_count": 60,
      "outputs": [
        {
          "output_type": "stream",
          "text": [
            "F \t L\n",
            "$0  \t  A3\n",
            "A0  \t  C1\n",
            "A1  \t  A0\n",
            "A2  \t  A1\n",
            "A3  \t  A2\n",
            "C0  \t  G0\n",
            "C1  \t  T0\n",
            "G0  \t  $0\n",
            "T0  \t  C0\n"
          ],
          "name": "stdout"
        }
      ]
    }
  ]
}